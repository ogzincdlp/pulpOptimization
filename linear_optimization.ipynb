{
 "cells": [
  {
   "cell_type": "code",
   "execution_count": 6,
   "metadata": {
    "pycharm": {
     "is_executing": false
    }
   },
   "outputs": [],
   "source": [
    "from pulp import LpProblem, LpMinimize, LpMaximize, LpVariable, lpDot, lpSum\n",
    "from utilities import print_result"
   ]
  },
  {
   "cell_type": "markdown",
   "metadata": {
    "pycharm": {
     "name": "#%%\n"
    }
   },
   "source": [
    "### Simple Linear Optimization\n",
    "\n",
    "PuLP can solve the linear optimization problems in the following format.\n",
    "$$\n",
    "\\min {(3x - 5y)}\n",
    "$$\n",
    "$$s.t.\n",
    "y \\leq x \n",
    "$$\n",
    "\n",
    "Here, $3x-5y$ is called the objective function. In this problem, we are trying to minimize this function, while making sure the *constraints* hold. In this problem, there is only one constraint, $y \\leq x$."
   ]
  },
  {
   "cell_type": "code",
   "execution_count": 7,
   "metadata": {},
   "outputs": [],
   "source": [
    "# problem definition with name and 'sense'\n",
    "problem = LpProblem('Simple Minimization', LpMinimize)"
   ]
  },
  {
   "cell_type": "code",
   "execution_count": 8,
   "metadata": {},
   "outputs": [],
   "source": [
    "# Variables are defined with names, bounds, and categories\n",
    "x = LpVariable('x', lowBound=0, cat='Continuous')\n",
    "y = LpVariable('y', upBound=5, cat='Integer')"
   ]
  },
  {
   "cell_type": "code",
   "execution_count": 9,
   "metadata": {},
   "outputs": [],
   "source": [
    "# the objective is added to the problem as a statement\n",
    "problem += 3 * x - 5 * y"
   ]
  },
  {
   "cell_type": "code",
   "execution_count": 10,
   "metadata": {},
   "outputs": [],
   "source": [
    "# the constraints are added as conditionals\n",
    "problem += y <= x"
   ]
  },
  {
   "cell_type": "code",
   "execution_count": 11,
   "metadata": {},
   "outputs": [
    {
     "name": "stdout",
     "output_type": "stream",
     "text": [
      "Optimization status: 1\n",
      "Final value of the objective: -10.0\n",
      "Final values of the variables:\n",
      "x = 5.0\n",
      "y = 5.0\n"
     ]
    }
   ],
   "source": [
    "problem.solve()\n",
    "\n",
    "# problem status is 1 if optimized\n",
    "print_result(problem)"
   ]
  },
  {
   "cell_type": "markdown",
   "metadata": {},
   "source": [
    "### Declaring a List of Variables\n",
    "\n",
    "If there are multiple variables which have the same category, lower and upper bounds, it is possible to use a dictionary and list comprehensions to declare variables, objective, and constraints.\n",
    "\n",
    "Consider a classic problem of maximixing utility with cost limitations.\n",
    "$$\n",
    "\\max \\sum_{i=1}^4 x_i u_i\n",
    "$$\n",
    "$$\n",
    "\\begin{align}\n",
    "s.t. \\sum_{i=1}^4 x_i c_i &\\leq 1 \\\\\n",
    "0\\leq x_i &\\leq 20\n",
    "\\end{align}\n",
    "$$"
   ]
  },
  {
   "cell_type": "code",
   "execution_count": 12,
   "metadata": {},
   "outputs": [],
   "source": [
    "# A list of variables suffixes (x1, x2, x3, x4)\n",
    "variable_names = [1, 2, 3, 4]\n",
    "\n",
    "# Cost of each variables is defined in a dictionary\n",
    "costs = {\n",
    "    1: 0.05,\n",
    "    2: 0.02,\n",
    "    3: 0.07,\n",
    "    4: 0.09\n",
    "}\n",
    "\n",
    "# Similarly utilities are defined in a dictionary\n",
    "utilities = {\n",
    "    1: 10,\n",
    "    2: 8,\n",
    "    3: 15,\n",
    "    4: 20\n",
    "}"
   ]
  },
  {
   "cell_type": "code",
   "execution_count": 14,
   "metadata": {},
   "outputs": [],
   "source": [
    "# Variables are defined as a dictionary with comman bounds and category\n",
    "# variables is a dictionary with keys being the elements of the variable_names list\n",
    "# Values of this dict is the variable names (x_1, x_2...) which can be referred to define objectives and constraints\n",
    "variables = LpVariable.dict('x', variable_names, lowBound=0, upBound=20, cat='Continuous')"
   ]
  },
  {
   "cell_type": "code",
   "execution_count": 15,
   "metadata": {},
   "outputs": [],
   "source": [
    "problem = LpProblem('Maximize Utility', LpMaximize)"
   ]
  },
  {
   "cell_type": "code",
   "execution_count": 16,
   "metadata": {},
   "outputs": [],
   "source": [
    "# Objective is defined as a dot product of the variables and corresponding utilities\n",
    "problem += lpDot(variables.values(), utilities.values())\n",
    "\n",
    "# Similarly, total cost is defined as the dot product of variables and costs\n",
    "problem += lpDot(variables.values(), costs.values()) <= 1"
   ]
  },
  {
   "cell_type": "code",
   "execution_count": 17,
   "metadata": {},
   "outputs": [
    {
     "name": "stdout",
     "output_type": "stream",
     "text": [
      "Optimization status: 1\n",
      "Final value of the objective: 293.33333400000004\n",
      "Final values of the variables:\n",
      "x_1 = 0.0\n",
      "x_2 = 20.0\n",
      "x_3 = 0.0\n",
      "x_4 = 6.6666667\n"
     ]
    }
   ],
   "source": [
    "problem.solve()\n",
    "\n",
    "print_result(problem)"
   ]
  },
  {
   "cell_type": "markdown",
   "metadata": {},
   "source": [
    "### Integer Programs\n",
    "\n",
    "Integer Programs: a linear program plus the additional constraints that some or all variables must be integer valued. Variables are called *binary* if they are allowed to take only 0 or 1 values."
   ]
  },
  {
   "cell_type": "markdown",
   "metadata": {},
   "source": [
    "### Logical Constraints\n",
    "\n",
    "Logical constraints with two variables are rather easy.\n",
    "\n",
    "**Constraint 1:** Either $x_1$ or $x_2$.\n",
    "$$\n",
    "x_1 + x_2 \\leq 1\n",
    "$$\n",
    "\n",
    "Consider the above utility maximization problem. Let's say there are two items with known utilites and costs. Let's denote $x_i$ whether or not the item is bought. Let's try to maximize the utility with non-restricting total cost condition, allowing only one of the items to be selected.\n",
    "$$\n",
    "\\max \\sum_{i=1}^2 x_i u_i\n",
    "$$\n",
    "$$\n",
    "\\begin{align}\n",
    "\\sum_{i=1}^2 x_i c_i &\\leq 100 \\\\\n",
    "x_1 + x_2 &\\leq 1\n",
    "\\end{align}\n",
    "$$"
   ]
  },
  {
   "cell_type": "code",
   "execution_count": 12,
   "metadata": {},
   "outputs": [
    {
     "name": "stdout",
     "output_type": "stream",
     "text": [
      "Optimization status: 1\n",
      "Final value of the objective: 10.0\n",
      "Final values of the variables:\n",
      "x_1 = 1.0\n",
      "x_2 = 0.0\n"
     ]
    }
   ],
   "source": [
    "variable_names = [1, 2]\n",
    "\n",
    "# Costs are low, so even if both item are chosen, the cost limit (<= 100) is satisfied\n",
    "costs = {\n",
    "    1: 20,\n",
    "    2: 10,\n",
    "}\n",
    "\n",
    "# Since the utility of 1 item is higher, that is expected to be chosen\n",
    "utilities = {\n",
    "    1: 10,\n",
    "    2: 8\n",
    "}\n",
    "\n",
    "problem = LpProblem('Maximize Utility', LpMaximize)\n",
    "variables = LpVariable.dict('x', variable_names, lowBound=0, upBound=1, cat='Integer')\n",
    "\n",
    "# Objective\n",
    "problem += lpDot(variables.values(), utilities.values())\n",
    "\n",
    "# Cost constraint\n",
    "problem += lpDot(variables.values(), costs.values()) <= 100\n",
    "\n",
    "# OR constraint\n",
    "problem += lpSum(variables.values()) <= 1\n",
    "\n",
    "problem.solve()\n",
    "print_result(problem)"
   ]
  },
  {
   "cell_type": "markdown",
   "metadata": {},
   "source": [
    "**Constraint 2:** If $x_1$ then $x_2$.\n",
    "$$\n",
    "x_1 \\leq x_2\n",
    "$$\n",
    "Let's modify the above problem and add a third item. Let's impose the logical condition to be if item 1 is chosen then item 2 has to be chosen.\n",
    "$$\n",
    "\\max \\sum_{i=1}^3 x_i u_i\n",
    "$$\n",
    "$$\n",
    "\\begin{align}\n",
    "\\sum_{i=1}^3 x_i c_i &\\leq 20 \\\\\n",
    "x_1 &\\leq x_2\n",
    "\\end{align}\n",
    "$$"
   ]
  },
  {
   "cell_type": "code",
   "execution_count": 22,
   "metadata": {},
   "outputs": [
    {
     "name": "stdout",
     "output_type": "stream",
     "text": [
      "Optimization status: 1\n",
      "Final value of the objective: 8.0\n",
      "Final values of the variables:\n",
      "x_1 = 0.0\n",
      "x_2 = 0.0\n",
      "x_3 = 1.0\n"
     ]
    }
   ],
   "source": [
    "variable_names = [1, 2, 3]\n",
    "\n",
    "# only one of the item can be chosen due to the cost limitation\n",
    "costs = {\n",
    "    1: 15,\n",
    "    2: 15,\n",
    "    3: 15,\n",
    "}\n",
    "\n",
    "# utility of 1 is highest, but choosing 1 will require choosing 2, but cost limitation restricts that\n",
    "utilities = {\n",
    "    1: 20,\n",
    "    2: 5,\n",
    "    3: 8,\n",
    "}\n",
    "\n",
    "problem = LpProblem('Maximize Utility', LpMaximize)\n",
    "variables = LpVariable.dict('x', variable_names, lowBound=0, upBound=1, cat='Integer')\n",
    "\n",
    "# Objective\n",
    "problem += lpDot(variables.values(), utilities.values())\n",
    "\n",
    "# Cost constraint\n",
    "problem += lpDot(variables.values(), costs.values()) <= 20\n",
    "\n",
    "# IF-THEN constraint\n",
    "problem += variables.get(1) <= variables.get(2)\n",
    "\n",
    "problem.solve()\n",
    "print_result(problem)"
   ]
  },
  {
   "cell_type": "markdown",
   "metadata": {},
   "source": [
    "Similarly, at least one of $x_1$ and $x_2$ can be imposed with the following condition.\n",
    "$$\n",
    "x_1 + x_2 \\geq 1\n",
    "$$\n",
    "Both, $x_1$ and $x_2$ can be imposed with the following condition.\n",
    "$$\n",
    "x_1 + x_2 \\geq 2\n",
    "$$"
   ]
  },
  {
   "cell_type": "markdown",
   "metadata": {},
   "source": [
    "### Logical Constraints with Non-Binary Variables\n",
    "Continuous variables are harder to model. Consider the following condition $x \\leq 5$ or $x \\geq 8$. We introduce a number *M* which is much larger than any variable in the problem and we introduce a binary variable $w$ and rewrite the equations as:\n",
    "$$\n",
    "\\begin{align}\n",
    "x &\\leq 5 + M(1-w) \\\\\n",
    "x &\\geq 8 - Mw\n",
    "\\end{align}\n",
    "$$\n",
    "Adding a very large number to RHS of a less than or equal to condition automatially satisfies that. Similarly, subtracting a very large number from RHS of a greater than or equal to condition automatically satisfies that. Binary variable $w$ makes sure only one of the equations is satisfied and the other is imposed.\n",
    "\n",
    "Consider the following problem.\n",
    "$$\n",
    "\\min x + y\n",
    "$$\n",
    "$$\n",
    "\\begin{align}\n",
    "0 &\\leq x \\\\\n",
    "0 &\\leq y\n",
    "\\end{align}\n",
    "$$\n",
    "$$\n",
    "x \\geq 10 \\; or \\; y \\geq 5\n",
    "$$\n",
    "We formulate the problem as follows:\n",
    "$$\n",
    "\\begin{align}\n",
    "\\min x &+ y\\\\\n",
    "0 &\\leq x \\\\\n",
    "0 &\\leq y \\\\\n",
    "x &\\geq 10 - M(1-w)\\\\\n",
    "y &\\geq 5 - Mw\n",
    "\\end{align}\n",
    "$$"
   ]
  },
  {
   "cell_type": "code",
   "execution_count": 23,
   "metadata": {},
   "outputs": [
    {
     "name": "stdout",
     "output_type": "stream",
     "text": [
      "Optimization status: 1\n",
      "Final value of the objective: 5.0\n",
      "Final values of the variables:\n",
      "w = 0.0\n",
      "x = 0.0\n",
      "y = 5.0\n"
     ]
    }
   ],
   "source": [
    "problem = LpProblem('Minimize', LpMinimize)\n",
    "\n",
    "x = LpVariable('x', lowBound=0, cat='Continuous')\n",
    "y = LpVariable('y', lowBound=0, cat='Continuous')\n",
    "w = LpVariable('w', lowBound=0, upBound=1, cat='Integer')\n",
    "\n",
    "M = 10\n",
    "\n",
    "problem += x + y\n",
    "\n",
    "problem += x >= 10 - M * (1 - w)\n",
    "problem += y >= 5 - M * w\n",
    "\n",
    "problem.solve()\n",
    "print_result(problem)"
   ]
  },
  {
   "cell_type": "markdown",
   "metadata": {},
   "source": [
    "Since at least one of the conditions has to be satisfied, and condition on y puts a lower limit on the variable and we are trying to minimize the sum, second condition is satisfied and not the first one."
   ]
  },
  {
   "cell_type": "code",
   "execution_count": null,
   "metadata": {},
   "outputs": [],
   "source": []
  }
 ],
 "metadata": {
  "kernelspec": {
   "display_name": "Python 3",
   "language": "python",
   "name": "python3"
  },
  "language_info": {
   "codemirror_mode": {
    "name": "ipython",
    "version": 3
   },
   "file_extension": ".py",
   "mimetype": "text/x-python",
   "name": "python",
   "nbconvert_exporter": "python",
   "pygments_lexer": "ipython3",
   "version": "3.7.3"
  },
  "pycharm": {
   "stem_cell": {
    "cell_type": "raw",
    "metadata": {
     "collapsed": false
    },
    "source": []
   }
  }
 },
 "nbformat": 4,
 "nbformat_minor": 1
}
