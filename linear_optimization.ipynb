{
 "cells": [
  {
   "cell_type": "code",
   "execution_count": 18,
   "metadata": {
    "pycharm": {
     "is_executing": false
    }
   },
   "outputs": [],
   "source": [
    "from pulp import LpProblem, LpMinimize, LpMaximize, LpVariable, lpDot\n",
    "from utilities import print_result"
   ]
  },
  {
   "cell_type": "markdown",
   "metadata": {
    "pycharm": {
     "name": "#%%\n"
    }
   },
   "source": [
    "### Simple Linear Optimization\n",
    "\n",
    "PuLP can solve the linear optimization problems in the following format.\n",
    "$$\n",
    "\\min {(3x - 5y)}\n",
    "$$\n",
    "$$s.t.\n",
    "y \\leq x \n",
    "$$\n",
    "\n",
    "Here, $3x-5y$ is called the objective function. In this problem, we are trying to minimize this function, while making sure the *constraints* hold. In this problem, there is only one constraint, $y \\leq x$."
   ]
  },
  {
   "cell_type": "code",
   "execution_count": 7,
   "metadata": {},
   "outputs": [],
   "source": [
    "# problem definition with name and 'sense'\n",
    "problem = LpProblem('Simple Minimization', LpMinimize)"
   ]
  },
  {
   "cell_type": "code",
   "execution_count": 8,
   "metadata": {},
   "outputs": [],
   "source": [
    "# Variables are defined with names, bounds, and categories\n",
    "x = LpVariable('x', lowBound=0, cat='Continuous')\n",
    "y = LpVariable('y', upBound=5, cat='Integer')"
   ]
  },
  {
   "cell_type": "code",
   "execution_count": 9,
   "metadata": {},
   "outputs": [],
   "source": [
    "# the objective is added to the problem as a statement\n",
    "problem += 3 * x - 5 * y"
   ]
  },
  {
   "cell_type": "code",
   "execution_count": 10,
   "metadata": {},
   "outputs": [],
   "source": [
    "# the constraints are added as conditionals\n",
    "problem += y <= x"
   ]
  },
  {
   "cell_type": "code",
   "execution_count": 11,
   "metadata": {},
   "outputs": [
    {
     "name": "stdout",
     "output_type": "stream",
     "text": [
      "Optimization status: 1\n",
      "Final value of the objective: -10.0\n",
      "Final values of the variables:\n",
      "x = 5.0\n",
      "y = 5.0\n"
     ]
    }
   ],
   "source": [
    "problem.solve()\n",
    "\n",
    "# problem status is 1 if optimized\n",
    "print_result(problem)"
   ]
  },
  {
   "cell_type": "markdown",
   "metadata": {},
   "source": [
    "### Declaring a List of Variables\n",
    "\n",
    "If there are multiple variables which have the same category, lower and upper bounds, it is possible to use a dictionary and list comprehensions to declare variables, objective, and constraints.\n",
    "\n",
    "Consider a classic problem of maximixing utility with cost limitations.\n",
    "$$\n",
    "\\max \\sum_{i=1}^4 x_i u_i\n",
    "$$\n",
    "$$\n",
    "s.t. \\sum_{i=1}^4 x_i c_i \\leq 1\n",
    "$$\n",
    "$$\n",
    "0\\leq x_i \\leq 20\n",
    "$$"
   ]
  },
  {
   "cell_type": "code",
   "execution_count": 12,
   "metadata": {},
   "outputs": [],
   "source": [
    "# A list of variables suffixes (x1, x2, x3, x4)\n",
    "variable_names = [1, 2, 3, 4]\n",
    "\n",
    "# Cost of each variables is defined in a dictionary\n",
    "costs = {\n",
    "    1: 0.05,\n",
    "    2: 0.02,\n",
    "    3: 0.07,\n",
    "    4: 0.09\n",
    "}\n",
    "\n",
    "# Similarly utilities are defined in a dictionary\n",
    "utilities = {\n",
    "    1: 10,\n",
    "    2: 8,\n",
    "    3: 15,\n",
    "    4: 20\n",
    "}"
   ]
  },
  {
   "cell_type": "code",
   "execution_count": 14,
   "metadata": {},
   "outputs": [],
   "source": [
    "# Variables are defined as a dictionary with comman bounds and category\n",
    "# variables is a dictionary with keys being the elements of the variable_names list\n",
    "# Values of this dict is the variable names (x_1, x_2...) which can be referred to define objectives and constraints\n",
    "variables = LpVariable.dict('x', variable_names, lowBound=0, upBound=20, cat='Continuous')"
   ]
  },
  {
   "cell_type": "code",
   "execution_count": 15,
   "metadata": {},
   "outputs": [],
   "source": [
    "problem = LpProblem('Maximize Utility', LpMaximize)"
   ]
  },
  {
   "cell_type": "code",
   "execution_count": 16,
   "metadata": {},
   "outputs": [],
   "source": [
    "# Objective is defined as a dot product of the variables and corresponding utilities\n",
    "problem += lpDot(variables.values(), utilities.values())\n",
    "\n",
    "# Similarly, total cost is defined as the dot product of variables and costs\n",
    "problem += lpDot(variables.values(), costs.values()) <= 1"
   ]
  },
  {
   "cell_type": "code",
   "execution_count": 17,
   "metadata": {},
   "outputs": [
    {
     "name": "stdout",
     "output_type": "stream",
     "text": [
      "Optimization status: 1\n",
      "Final value of the objective: 293.33333400000004\n",
      "Final values of the variables:\n",
      "x_1 = 0.0\n",
      "x_2 = 20.0\n",
      "x_3 = 0.0\n",
      "x_4 = 6.6666667\n"
     ]
    }
   ],
   "source": [
    "problem.solve()\n",
    "\n",
    "print_result(problem)"
   ]
  },
  {
   "cell_type": "code",
   "execution_count": null,
   "metadata": {},
   "outputs": [],
   "source": []
  }
 ],
 "metadata": {
  "kernelspec": {
   "display_name": "Python 3",
   "language": "python",
   "name": "python3"
  },
  "language_info": {
   "codemirror_mode": {
    "name": "ipython",
    "version": 3
   },
   "file_extension": ".py",
   "mimetype": "text/x-python",
   "name": "python",
   "nbconvert_exporter": "python",
   "pygments_lexer": "ipython3",
   "version": "3.7.3"
  },
  "pycharm": {
   "stem_cell": {
    "cell_type": "raw",
    "metadata": {
     "collapsed": false
    },
    "source": []
   }
  }
 },
 "nbformat": 4,
 "nbformat_minor": 1
}
