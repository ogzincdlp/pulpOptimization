{
 "cells": [
  {
   "cell_type": "code",
   "execution_count": 1,
   "metadata": {
    "pycharm": {
     "is_executing": false
    }
   },
   "outputs": [],
   "source": [
    "from pulp import LpProblem, LpMinimize, LpMaximize, LpVariable, lpDot, lpSum\n",
    "from utilities import print_result"
   ]
  },
  {
   "cell_type": "markdown",
   "metadata": {
    "pycharm": {
     "name": "#%%\n"
    }
   },
   "source": [
    "### Simple Linear Optimization\n",
    "\n",
    "PuLP can solve the linear optimization problems in the following format.\n",
    "$$\n",
    "\\begin{align}\n",
    "\\min & (3x - 5y) \\\\\n",
    "\\text {subject to} \\; & y \\leq x\n",
    "\\end{align}\n",
    "$$\n",
    "\n",
    "Here, $3x-5y$ is called the objective function. In this problem, we are trying to minimize this function, while making sure the *constraints* hold. In this problem, there is only one constraint, $y \\leq x$."
   ]
  },
  {
   "cell_type": "code",
   "execution_count": 2,
   "metadata": {},
   "outputs": [],
   "source": [
    "# problem definition with name and 'sense'\n",
    "problem = LpProblem('Simple Minimization', LpMinimize)"
   ]
  },
  {
   "cell_type": "code",
   "execution_count": 3,
   "metadata": {},
   "outputs": [],
   "source": [
    "# Variables are defined with names, bounds, and categories\n",
    "x = LpVariable('x', lowBound=0, cat='Continuous')\n",
    "y = LpVariable('y', upBound=5, cat='Integer')"
   ]
  },
  {
   "cell_type": "code",
   "execution_count": 4,
   "metadata": {},
   "outputs": [],
   "source": [
    "# the objective is added to the problem as a statement\n",
    "problem += 3 * x - 5 * y"
   ]
  },
  {
   "cell_type": "code",
   "execution_count": 5,
   "metadata": {},
   "outputs": [],
   "source": [
    "# the constraints are added as conditionals\n",
    "problem += y <= x"
   ]
  },
  {
   "cell_type": "code",
   "execution_count": 6,
   "metadata": {},
   "outputs": [
    {
     "name": "stdout",
     "output_type": "stream",
     "text": [
      "Optimization status: 1\n",
      "Final value of the objective: -10.0\n",
      "Final values of the variables:\n",
      "x = 5.0\n",
      "y = 5.0\n"
     ]
    }
   ],
   "source": [
    "problem.solve()\n",
    "\n",
    "# problem status is 1 if optimized\n",
    "print_result(problem)"
   ]
  },
  {
   "cell_type": "markdown",
   "metadata": {},
   "source": [
    "### Declaring a List of Variables\n",
    "\n",
    "If there are multiple variables which have the same category, lower and upper bounds, it is possible to use a dictionary and list comprehensions to declare variables, objective, and constraints.\n",
    "\n",
    "Consider a classic problem of maximixing utility with cost limitations.\n",
    "$$\n",
    "\\max \\sum_{i=1}^4 x_i u_i\n",
    "$$\n",
    "$$\n",
    "\\begin{align}\n",
    "\\text {subject to} \\; \\sum_{i=1}^4 x_i c_i &\\leq 1 \\\\\n",
    "0\\leq x_i &\\leq 20\n",
    "\\end{align}\n",
    "$$"
   ]
  },
  {
   "cell_type": "code",
   "execution_count": 7,
   "metadata": {},
   "outputs": [],
   "source": [
    "# A list of variables suffixes (x1, x2, x3, x4)\n",
    "variable_names = [1, 2, 3, 4]\n",
    "\n",
    "# Cost of each variables is defined in a dictionary\n",
    "costs = {\n",
    "    1: 0.05,\n",
    "    2: 0.02,\n",
    "    3: 0.07,\n",
    "    4: 0.09\n",
    "}\n",
    "\n",
    "# Similarly utilities are defined in a dictionary\n",
    "utilities = {\n",
    "    1: 10,\n",
    "    2: 8,\n",
    "    3: 15,\n",
    "    4: 20\n",
    "}"
   ]
  },
  {
   "cell_type": "code",
   "execution_count": 8,
   "metadata": {},
   "outputs": [],
   "source": [
    "# Variables are defined as a dictionary with comman bounds and category\n",
    "# variables is a dictionary with keys being the elements of the variable_names list\n",
    "# Values of this dict is the variable names (x_1, x_2...) which can be referred to define objectives and constraints\n",
    "variables = LpVariable.dict('x', variable_names, lowBound=0, upBound=20, cat='Continuous')"
   ]
  },
  {
   "cell_type": "code",
   "execution_count": 9,
   "metadata": {},
   "outputs": [],
   "source": [
    "problem = LpProblem('Maximize Utility', LpMaximize)"
   ]
  },
  {
   "cell_type": "code",
   "execution_count": 10,
   "metadata": {},
   "outputs": [],
   "source": [
    "# Objective is defined as a dot product of the variables and corresponding utilities\n",
    "problem += lpDot(variables.values(), utilities.values())\n",
    "\n",
    "# Similarly, total cost is defined as the dot product of variables and costs\n",
    "problem += lpDot(variables.values(), costs.values()) <= 1"
   ]
  },
  {
   "cell_type": "code",
   "execution_count": 11,
   "metadata": {},
   "outputs": [
    {
     "name": "stdout",
     "output_type": "stream",
     "text": [
      "Optimization status: 1\n",
      "Final value of the objective: 293.33333400000004\n",
      "Final values of the variables:\n",
      "x_1 = 0.0\n",
      "x_2 = 20.0\n",
      "x_3 = 0.0\n",
      "x_4 = 6.6666667\n"
     ]
    }
   ],
   "source": [
    "problem.solve()\n",
    "\n",
    "print_result(problem)"
   ]
  },
  {
   "cell_type": "markdown",
   "metadata": {},
   "source": [
    "### Integer Programs\n",
    "\n",
    "Integer Programs: a linear program plus the additional constraints that some or all variables must be integer valued. Variables are called *binary* if they are allowed to take only 0 or 1 values."
   ]
  },
  {
   "cell_type": "markdown",
   "metadata": {},
   "source": [
    "### Logical Constraints\n",
    "\n",
    "Logical constraints with two variables are rather easy.\n",
    "\n",
    "**Constraint 1:** Either $x_1$ or $x_2$.\n",
    "$$\n",
    "x_1 + x_2 \\leq 1\n",
    "$$\n",
    "\n",
    "Consider the above utility maximization problem. Let's say there are two items with known utilites and costs. Let's denote $x_i$ whether or not the item is bought. Let's try to maximize the utility with non-restricting total cost condition, allowing only one of the items to be selected.\n",
    "$$\n",
    "\\max \\sum_{i=1}^2 x_i u_i\n",
    "$$\n",
    "$$\n",
    "\\begin{align}\n",
    "\\sum_{i=1}^2 x_i c_i &\\leq 100 \\\\\n",
    "x_1 + x_2 &\\leq 1\n",
    "\\end{align}\n",
    "$$"
   ]
  },
  {
   "cell_type": "code",
   "execution_count": 12,
   "metadata": {},
   "outputs": [
    {
     "name": "stdout",
     "output_type": "stream",
     "text": [
      "Optimization status: 1\n",
      "Final value of the objective: 10.0\n",
      "Final values of the variables:\n",
      "x_1 = 1.0\n",
      "x_2 = 0.0\n"
     ]
    }
   ],
   "source": [
    "variable_names = [1, 2]\n",
    "\n",
    "# Costs are low, so even if both item are chosen, the cost limit (<= 100) is satisfied\n",
    "costs = {\n",
    "    1: 20,\n",
    "    2: 10,\n",
    "}\n",
    "\n",
    "# Since the utility of 1 item is higher, that is expected to be chosen\n",
    "utilities = {\n",
    "    1: 10,\n",
    "    2: 8\n",
    "}\n",
    "\n",
    "problem = LpProblem('Maximize Utility', LpMaximize)\n",
    "variables = LpVariable.dict('x', variable_names, lowBound=0, upBound=1, cat='Integer')\n",
    "\n",
    "# Objective\n",
    "problem += lpDot(variables.values(), utilities.values())\n",
    "\n",
    "# Cost constraint\n",
    "problem += lpDot(variables.values(), costs.values()) <= 100\n",
    "\n",
    "# OR constraint\n",
    "problem += lpSum(variables.values()) <= 1\n",
    "\n",
    "problem.solve()\n",
    "print_result(problem)"
   ]
  },
  {
   "cell_type": "markdown",
   "metadata": {},
   "source": [
    "**Constraint 2:** If $x_1$ then $x_2$.\n",
    "$$\n",
    "x_1 \\leq x_2\n",
    "$$\n",
    "Let's modify the above problem and add a third item. Let's impose the logical condition to be if item 1 is chosen then item 2 has to be chosen.\n",
    "$$\n",
    "\\max \\sum_{i=1}^3 x_i u_i\n",
    "$$\n",
    "$$\n",
    "\\begin{align}\n",
    "\\sum_{i=1}^3 x_i c_i &\\leq 20 \\\\\n",
    "x_1 &\\leq x_2\n",
    "\\end{align}\n",
    "$$"
   ]
  },
  {
   "cell_type": "code",
   "execution_count": 13,
   "metadata": {},
   "outputs": [
    {
     "name": "stdout",
     "output_type": "stream",
     "text": [
      "Optimization status: 1\n",
      "Final value of the objective: 8.0\n",
      "Final values of the variables:\n",
      "x_1 = 0.0\n",
      "x_2 = 0.0\n",
      "x_3 = 1.0\n"
     ]
    }
   ],
   "source": [
    "variable_names = [1, 2, 3]\n",
    "\n",
    "# only one of the item can be chosen due to the cost limitation\n",
    "costs = {\n",
    "    1: 15,\n",
    "    2: 15,\n",
    "    3: 15,\n",
    "}\n",
    "\n",
    "# utility of 1 is highest, but choosing 1 will require choosing 2, but cost limitation restricts that\n",
    "utilities = {\n",
    "    1: 20,\n",
    "    2: 5,\n",
    "    3: 8,\n",
    "}\n",
    "\n",
    "problem = LpProblem('Maximize Utility', LpMaximize)\n",
    "variables = LpVariable.dict('x', variable_names, lowBound=0, upBound=1, cat='Integer')\n",
    "\n",
    "# Objective\n",
    "problem += lpDot(variables.values(), utilities.values())\n",
    "\n",
    "# Cost constraint\n",
    "problem += lpDot(variables.values(), costs.values()) <= 20\n",
    "\n",
    "# IF-THEN constraint\n",
    "problem += variables.get(1) <= variables.get(2)\n",
    "\n",
    "problem.solve()\n",
    "print_result(problem)"
   ]
  },
  {
   "cell_type": "markdown",
   "metadata": {},
   "source": [
    "Similarly, at least one of $x_1$ and $x_2$ can be imposed with the following condition.\n",
    "$$\n",
    "x_1 + x_2 \\geq 1\n",
    "$$\n",
    "Both, $x_1$ and $x_2$ can be imposed with the following condition.\n",
    "$$\n",
    "x_1 + x_2 \\geq 2\n",
    "$$"
   ]
  },
  {
   "cell_type": "markdown",
   "metadata": {},
   "source": [
    "### Logical Constraints with Non-Binary Variables\n",
    "Continuous variables are harder to model. Consider the following condition $x \\leq 5$ or $x \\geq 8$. We introduce a number *M* which is much larger than any variable in the problem and we introduce a binary variable $w$ and rewrite the equations as:\n",
    "$$\n",
    "\\begin{align}\n",
    "x &\\leq 5 + M(1-w) \\\\\n",
    "x &\\geq 8 - Mw\n",
    "\\end{align}\n",
    "$$\n",
    "Adding a very large number to RHS of a less than or equal to condition automatially satisfies that. Similarly, subtracting a very large number from RHS of a greater than or equal to condition automatically satisfies that. Binary variable $w$ makes sure only one of the equations is satisfied and the other is imposed.\n",
    "\n",
    "Consider the following problem.\n",
    "$$\n",
    "\\min x + y\n",
    "$$\n",
    "$$\n",
    "\\begin{align}\n",
    "0 &\\leq x \\\\\n",
    "0 &\\leq y\n",
    "\\end{align}\n",
    "$$\n",
    "$$\n",
    "x \\geq 10 \\; or \\; y \\geq 5\n",
    "$$\n",
    "We formulate the problem as follows:\n",
    "$$\n",
    "\\begin{align}\n",
    "\\min x &+ y\\\\\n",
    "0 &\\leq x \\\\\n",
    "0 &\\leq y \\\\\n",
    "x &\\geq 10 - M(1-w)\\\\\n",
    "y &\\geq 5 - Mw\n",
    "\\end{align}\n",
    "$$"
   ]
  },
  {
   "cell_type": "code",
   "execution_count": 14,
   "metadata": {},
   "outputs": [
    {
     "name": "stdout",
     "output_type": "stream",
     "text": [
      "Optimization status: 1\n",
      "Final value of the objective: 5.0\n",
      "Final values of the variables:\n",
      "w = 0.0\n",
      "x = 0.0\n",
      "y = 5.0\n"
     ]
    }
   ],
   "source": [
    "problem = LpProblem('Minimize', LpMinimize)\n",
    "\n",
    "x = LpVariable('x', lowBound=0, cat='Continuous')\n",
    "y = LpVariable('y', lowBound=0, cat='Continuous')\n",
    "w = LpVariable('w', lowBound=0, upBound=1, cat='Integer')\n",
    "\n",
    "M = 10\n",
    "\n",
    "problem += x + y\n",
    "\n",
    "problem += x >= 10 - M * (1 - w)\n",
    "problem += y >= 5 - M * w\n",
    "\n",
    "problem.solve()\n",
    "print_result(problem)"
   ]
  },
  {
   "cell_type": "markdown",
   "metadata": {},
   "source": [
    "Since at least one of the conditions has to be satisfied, and condition on y puts a lower limit on the variable and we are trying to minimize the sum, second condition is satisfied and not the first one."
   ]
  },
  {
   "cell_type": "markdown",
   "metadata": {},
   "source": [
    "#### Modeling IF-THEN type constraints\n",
    "If-Then type constraints can be first converted to or conditions with the followint equivalence:\n",
    "$$\n",
    "p \\implies q \\equiv \\lnot p \\vee q\n",
    "$$\n",
    "For example, if $x + y \\leq 10$ then $x \\geq 5$ condition can be rewritten as $x + y \\geq 10$ or $x \\geq 5$. When negating a statement, inequality switches. Then the or condition can be modeled as described above.\n",
    "Let's model the following problem in PuLP.\n",
    "$$\n",
    "\\begin{align}\n",
    "\\min (x &+ y) \\\\\n",
    "0 &\\leq x, y \\\\\n",
    "x + y \\leq 10 &\\implies x \\geq 5\n",
    "\\end{align}\n",
    "$$\n",
    "We can rewrite the problem as:\n",
    "$$\n",
    "\\begin{align}\n",
    "\\min (x &+ y) \\\\\n",
    "0 &\\leq x, y \\\\\n",
    "x + y &\\geq 10 - M(1 - w)\\\\\n",
    "x &\\geq 5 - Mw\n",
    "\\end{align}\n",
    "$$"
   ]
  },
  {
   "cell_type": "code",
   "execution_count": 15,
   "metadata": {},
   "outputs": [
    {
     "name": "stdout",
     "output_type": "stream",
     "text": [
      "Optimization status: 1\n",
      "Final value of the objective: 5.0\n",
      "Final values of the variables:\n",
      "w = 0.0\n",
      "x = 5.0\n",
      "y = 0.0\n"
     ]
    }
   ],
   "source": [
    "problem = LpProblem('Minimize', LpMinimize)\n",
    "\n",
    "x = LpVariable('x', lowBound=0, cat='Continuous')\n",
    "y = LpVariable('y', lowBound=0, cat='Continuous')\n",
    "w = LpVariable('w', lowBound=0, upBound=1, cat='Integer')\n",
    "\n",
    "M = 100\n",
    "\n",
    "problem += x + y\n",
    "\n",
    "problem += x + y >= 10 - M * (1 - w)\n",
    "problem += x >= 5 - M * w\n",
    "\n",
    "problem.solve()\n",
    "print_result(problem)"
   ]
  },
  {
   "cell_type": "markdown",
   "metadata": {},
   "source": [
    "Since, we are trying to minimize the summation of the two variables, they try to approach their lower limit, 0. The if condition enforces x be greater than or equal to 5."
   ]
  },
  {
   "cell_type": "markdown",
   "metadata": {},
   "source": [
    "### Fixed Charge Problems\n",
    "This is a special type of a more general family of problems, piecewise defined function. In this section we will model the function of the following form.\n",
    "$$\n",
    "f(x)=   \\left\\{\n",
    "\\begin{array}{ll}\n",
    "      0    & x = 0 \\\\\n",
    "      ax+b & x > 0 \\\\\n",
    "\\end{array} \n",
    "\\right.\n",
    "$$"
   ]
  },
  {
   "cell_type": "markdown",
   "metadata": {},
   "source": [
    "Consider the following profit maximization problem. Each product requires using some limited resource and there is a fixed charge of producing that product. We want to optimize the number of each products to be produced that maximizes the profit.\n",
    "\n",
    "|&nbsp;      |Product 1|Product 2|Product 3|Available|\n",
    "|------------|---------|---------|---------|---------|\n",
    "|Resource 1  |    3    |    4    |    5    |   100   |\n",
    "|Resource 2  |    1    |    2    |    3    |    30   |\n",
    "|Resource 3  |   10    |    5    |    2    |   204   |\n",
    "|Profit      |   40    |   30    |   20    |         |\n",
    "|Fixed Charge|  500    |  400    |  300    |         |"
   ]
  },
  {
   "cell_type": "markdown",
   "metadata": {},
   "source": [
    "Let $x_i$ denote the number of product $i$ to be produced, $p_i$ the corresponding profit, $c_i$ the corresponding fixed charge. We can then define the profit to be gained from the product $i$ as follows:\n",
    "$$\n",
    "f_i(x_i)=   \\left\\{\n",
    "\\begin{array}{ll}\n",
    "      0              & x_i = 0 \\\\\n",
    "      p_i x_i - c_i  & x_i > 0 \\\\\n",
    "\\end{array} \n",
    "\\right.\n",
    "$$\n",
    "Then, we want to maximize, the total profit:\n",
    "$$\n",
    "\\max \\sum_{i=1}^3 f_i(x_i)\n",
    "$$\n",
    "We introduce the binary variables $w_i$ such that $x_i \\leq Mw_i$. If $w_i$ is $0$ then $x_i$ is enforced to be $0$. For any other value of $x_i$, $w_i$ must be $1$. This allows us to write the piecewise defined profit function as follows:\n",
    "$$\n",
    "f_i(x_i) = p_i x_i - w_i c_i\n",
    "$$"
   ]
  },
  {
   "cell_type": "code",
   "execution_count": 16,
   "metadata": {},
   "outputs": [
    {
     "name": "stdout",
     "output_type": "stream",
     "text": [
      "Optimization status: 1\n",
      "Final value of the objective: 300.0\n",
      "Final values of the variables:\n",
      "w_1 = 1.0\n",
      "w_2 = 0.0\n",
      "w_3 = 0.0\n",
      "x_1 = 20.0\n",
      "x_2 = 0.0\n",
      "x_3 = 0.0\n"
     ]
    }
   ],
   "source": [
    "problem = LpProblem(\"Fixed Charge Cost Maximization\", LpMaximize)\n",
    "\n",
    "profit = {1: 40, 2: 30, 3: 20}\n",
    "fixed_charge = {1: 500, 2: 400, 3: 300}\n",
    "\n",
    "resources = {\n",
    "    1: [3, 4, 5],\n",
    "    2: [1, 2, 3],\n",
    "    3: [10, 5, 2]\n",
    "}\n",
    "availability = {1: 100, 2: 30, 3: 204}\n",
    "\n",
    "products = [1, 2, 3]\n",
    "\n",
    "product_variables = LpVariable.dict('x', products, lowBound=0, cat='Integer')\n",
    "binary_variables = LpVariable.dict('w', products, lowBound=0, upBound=1, cat='Integer')\n",
    "\n",
    "M = 1000\n",
    "\n",
    "# impose the condition x_i <= M w_i\n",
    "for i in products:\n",
    "    problem += product_variables[i] <= M * binary_variables[i]\n",
    "\n",
    "    \n",
    "# resource limitation\n",
    "for i in resources:\n",
    "    problem += lpDot(resources[i], product_variables.values()) <= availability[i]\n",
    "\n",
    "\n",
    "# define objective as sum(p_i x_i) - sum(c_i w_i)\n",
    "problem += lpDot(profit.values(), product_variables.values()) - lpDot(fixed_charge.values(), binary_variables.values())\n",
    "\n",
    "problem.solve()\n",
    "print_result(problem)"
   ]
  },
  {
   "cell_type": "markdown",
   "metadata": {},
   "source": [
    "### Piecewise Linear Functions\n",
    "We can generalize the idea introduced above to model piecewise defined functions. Assume cost is defined by the following function, and x is integer valued.\n",
    "$$\n",
    "f(x)=   \\left\\{\n",
    "\\begin{array}{ll}\n",
    "      4x       & 0 \\leq x \\leq 3 \\\\\n",
    "      3x + 3   & 4 \\leq x \\leq 7 \\\\\n",
    "      2x + 10  & 8 \\leq x \\leq 9 \\\\\n",
    "\\end{array} \n",
    "\\right.\n",
    "$$\n",
    "We can define the following integer and binary variables.\n",
    "$$\n",
    "w_1 =   \\left\\{\n",
    "\\begin{array}{ll}\n",
    "      1       & 0 \\leq x \\leq 3 \\\\\n",
    "      0       & \\text{otherwise} \\\\\n",
    "\\end{array} \n",
    "\\right.\n",
    "$$\n",
    "$$\n",
    "w_2 =   \\left\\{\n",
    "\\begin{array}{ll}\n",
    "      1       & 4 \\leq x \\leq 7 \\\\\n",
    "      0       & \\text{otherwise} \\\\\n",
    "\\end{array} \n",
    "\\right.\n",
    "$$\n",
    "$$\n",
    "w_3 =   \\left\\{\n",
    "\\begin{array}{ll}\n",
    "      1       & 8 \\leq x \\leq 9 \\\\\n",
    "      0       & \\text{otherwise} \\\\\n",
    "\\end{array} \n",
    "\\right.\n",
    "$$\n",
    "$$\n",
    "x_1 =   \\left\\{\n",
    "\\begin{array}{ll}\n",
    "      x       & 0 \\leq x \\leq 3 \\\\\n",
    "      0       & \\text{otherwise} \\\\\n",
    "\\end{array} \n",
    "\\right.\n",
    "$$\n",
    "$$\n",
    "x_2 =   \\left\\{\n",
    "\\begin{array}{ll}\n",
    "      x       & 4 \\leq x \\leq 7 \\\\\n",
    "      0       & \\text{otherwise} \\\\\n",
    "\\end{array} \n",
    "\\right.\n",
    "$$\n",
    "$$\n",
    "x_3 =   \\left\\{\n",
    "\\begin{array}{ll}\n",
    "      x       & 8 \\leq x \\leq 9 \\\\\n",
    "      0       & \\text{otherwise} \\\\\n",
    "\\end{array} \n",
    "\\right.\n",
    "$$\n",
    "This is summarized in the following table:\n",
    "\n",
    "|&nbsp;|$0 \\leq x \\leq 3$|$4 \\leq x \\leq 7$|$8 \\leq x \\leq 9$|\n",
    "|------|-----------------|-----------------|-----------------|\n",
    "|$w_1$ |        1        |        0        |        0        |\n",
    "|$w_2$ |        0        |        1        |        0        |\n",
    "|$w_3$ |        0        |        0        |        1        |\n",
    "|$x_1$ |       $x$       |        0        |        0        |\n",
    "|$x_2$ |        0        |       $x$       |        0        |\n",
    "|$x_3$ |        0        |        0        |       $x$       |\n"
   ]
  },
  {
   "cell_type": "markdown",
   "metadata": {},
   "source": [
    "Then we can define the piecewise defined functions as follows:\n",
    "$$\n",
    "f(x) = 4x_1 + (3x_2 + 3w_2) + (2x_3 + 10w_3)\n",
    "$$\n",
    "We can set the following constraints.\n",
    "$$\n",
    "\\begin{align}\n",
    "0 & \\leq x_1 \\leq 3w_1 \\\\\n",
    "4w_2 & \\leq x_2 \\leq 7w_2 \\\\\n",
    "8w_3 & \\leq x_3 \\leq 9w_3\n",
    "\\end{align}\n",
    "$$\n",
    "$$\n",
    "w_1 + w_2 + w_3 = 1\n",
    "$$\n",
    "$$\n",
    "x_1 + x_2 + x_3 = x\n",
    "$$\n",
    "Let's assume above function is a revenue of a process and the cost of the same process is defined by $g(x) = 3x$. We can find the value of $x$ that maximizes the profit in the next code block."
   ]
  },
  {
   "cell_type": "code",
   "execution_count": 24,
   "metadata": {},
   "outputs": [
    {
     "name": "stdout",
     "output_type": "stream",
     "text": [
      "Optimization status: 1\n",
      "Final value of the objective: 3.0\n",
      "Final values of the variables:\n",
      "w_1 = 1.0\n",
      "w_2 = 0.0\n",
      "w_3 = 0.0\n",
      "x = 3.0\n",
      "x_1 = 3.0\n",
      "x_2 = 0.0\n",
      "x_3 = 0.0\n"
     ]
    }
   ],
   "source": [
    "problem = LpProblem(\"Maximize profit with piecewise cost\", LpMaximize)\n",
    "x = LpVariable('x', lowBound=0, upBound=9, cat='Integer')\n",
    "subscripts = [1, 2, 3]\n",
    "x_i = LpVariable.dict('x', subscripts, lowBound=0, upBound=9, cat='Integer')\n",
    "w_i = LpVariable.dict('w', subscripts, lowBound=0, upBound=1, cat='Integer')\n",
    "\n",
    "problem += (4 * x_i[1] + 3 * x_i[2] + 3 * w_i[2] + 2 * x_i[3] + 10 * w_i[3]) - 3*x\n",
    "problem += 0 <= x_i[1]\n",
    "problem += x_i[1] <= 3 * w_i[1]\n",
    "problem += 4 * w_i[2] <= x_i[2]\n",
    "problem += x_i[2] <= 7 * w_i[2]\n",
    "problem += 8 * w_i[3] <= x_i[3]\n",
    "problem += x_i[3] <= 9 * w_i[3]\n",
    "problem += lpSum(w_i.values()) == 1\n",
    "problem += lpSum(x_i.values()) == x\n",
    "\n",
    "problem.solve()\n",
    "print_result(problem)"
   ]
  }
 ],
 "metadata": {
  "kernelspec": {
   "display_name": "Python 3",
   "language": "python",
   "name": "python3"
  },
  "language_info": {
   "codemirror_mode": {
    "name": "ipython",
    "version": 3
   },
   "file_extension": ".py",
   "mimetype": "text/x-python",
   "name": "python",
   "nbconvert_exporter": "python",
   "pygments_lexer": "ipython3",
   "version": "3.7.3"
  },
  "pycharm": {
   "stem_cell": {
    "cell_type": "raw",
    "metadata": {
     "collapsed": false
    },
    "source": []
   }
  }
 },
 "nbformat": 4,
 "nbformat_minor": 1
}
