{
 "cells": [
  {
   "cell_type": "markdown",
   "metadata": {},
   "source": [
    "## A Case Study - Power Consumption Optimization\n",
    "We can apply the basic ideas used in the linear optimization to a problem of power consumption optimization. In energy management, decreasing the peak power demand is an important task. We can optimize the schedules of appliances (for a household for example) such that maximum power demand is minimized.\n"
   ]
  },
  {
   "cell_type": "markdown",
   "metadata": {},
   "source": [
    "#### Objective\n",
    "The objective definition is rather straight forward. If we let $P_i^t$ denote the power consumption for the appliance $i$ at time $t$, then the total power consumption at any time $t$ is $P^t = \\sum_i P_i^t$. We can define the maximum power demand $P_{max} = \\max P^t$. Then the objective function is then simply:\n",
    "$$\n",
    "\\min P_{max}\n",
    "$$\n",
    "#### Variables\n",
    "For this problem we can assume the variables are the power consumption of an appliance at any time t. We will denote this with $P_i^t$. For $N$ appliances and $T$ time steps, there will be $N \\times T$ variables. For programming convenience, we will assume that all the appliances are either on or off, consuming either $0$ or $P_i$ amount of power. We can introduce binary integer variables $x_i^t$ to denote the state of the appliance $i$ at time $t$.\n",
    "#### Constraints\n",
    "We introduced both $p_i^t$ and $x_i^t$. First type of constraint arises due to their dependency.\n",
    "$$\n",
    "P_i^t = P_i x_i^t \\hspace{1cm} \\forall i, t\n",
    "$$\n",
    "Another type of constraint is the total energy consumption for appliances. We want the schedules of the applianes to be optimized, but the total amount of runtime (total amount of energy consumption) should not change.\n",
    "$$\n",
    "\\sum_t P_i^t = E_i \\hspace{1cm} \\forall i\n",
    "$$"
   ]
  },
  {
   "cell_type": "code",
   "execution_count": 2,
   "metadata": {},
   "outputs": [],
   "source": [
    "from pulp import LpProblem, LpMinimize, LpMaximize, LpVariable, lpDot, lpSum\n",
    "from utilities import print_result, print_power_values"
   ]
  },
  {
   "cell_type": "code",
   "execution_count": 3,
   "metadata": {},
   "outputs": [
    {
     "name": "stdout",
     "output_type": "stream",
     "text": [
      "Time\tApp1\tApp2\tApp3\n",
      "1\t0\t0\t75\n",
      "2\t0\t50\t75\n",
      "3\t0\t50\t75\n",
      "4\t100\t0\t0\n",
      "5\t100\t0\t0\n",
      "6\t100\t0\t0\n",
      "7\t100\t0\t0\n",
      "8\t0\t50\t75\n",
      "9\t100\t0\t0\n",
      "10\t0\t0\t0\n"
     ]
    }
   ],
   "source": [
    "appliances = list(range(1, 4))\n",
    "time_steps = list(range(1, 11))\n",
    "p = LpVariable.dict('P', (appliances, time_steps), lowBound=0, cat='Continuous')\n",
    "x = LpVariable.dict('x', (appliances, time_steps), lowBound=0, upBound=1, cat='Integer')\n",
    "\n",
    "# Rated power for appliances\n",
    "power_values = {\n",
    "    1: 100,\n",
    "    2: 50,\n",
    "    3: 75\n",
    "}\n",
    "\n",
    "# Number of time steps each appliance is required to run\n",
    "runtimes = {\n",
    "    1: 5,\n",
    "    2: 3,\n",
    "    3: 4\n",
    "}\n",
    "\n",
    "# introduce max power as a new variable\n",
    "p_max = LpVariable('P_max', lowBound=0, cat='Continuous')\n",
    "\n",
    "problem = LpProblem('Minimize maximum power demand', LpMinimize)\n",
    "\n",
    "for i in appliances:\n",
    "    for t in time_steps:\n",
    "        # constraint P_i_t = x_i_t * P_i\n",
    "        problem += p[(i, t)] == x[(i, t)] * power_values[i]\n",
    "    \n",
    "    # total runtime constraint for each appliance\n",
    "    problem += lpSum([x[(i, t)] for t in time_steps]) == runtimes[i]\n",
    "    \n",
    "for t in time_steps:\n",
    "    # for any time step t total power consumption <= p_max \n",
    "    problem += lpSum([p[(i, t)] for i in appliances]) <= p_max\n",
    "\n",
    "problem += p_max\n",
    "\n",
    "problem.solve()\n",
    "print_power_values(problem, p, appliances, time_steps)"
   ]
  }
 ],
 "metadata": {
  "kernelspec": {
   "display_name": "Python 3",
   "language": "python",
   "name": "python3"
  },
  "language_info": {
   "codemirror_mode": {
    "name": "ipython",
    "version": 3
   },
   "file_extension": ".py",
   "mimetype": "text/x-python",
   "name": "python",
   "nbconvert_exporter": "python",
   "pygments_lexer": "ipython3",
   "version": "3.7.3"
  }
 },
 "nbformat": 4,
 "nbformat_minor": 2
}
